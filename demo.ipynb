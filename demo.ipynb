{
 "cells": [
  {
   "cell_type": "markdown",
   "metadata": {},
   "source": [
    "![](https://chendongze.oss-cn-shanghai.aliyuncs.com/ipic/ihkvn.png)\n",
    "# 下载处理后的数据库数据库"
   ]
  },
  {
   "cell_type": "code",
   "execution_count": 1,
   "metadata": {},
   "outputs": [],
   "source": [
    "\n",
    "# !gdown --id 18x-aCvxJpOrWJoZ5VAuIe-xzNJHH9lqH"
   ]
  },
  {
   "cell_type": "code",
   "execution_count": 2,
   "metadata": {},
   "outputs": [],
   "source": [
    "# !unzip pop17.zip -d pop17-dataset\n"
   ]
  },
  {
   "cell_type": "code",
   "execution_count": 1,
   "metadata": {},
   "outputs": [
    {
     "name": "stdout",
     "output_type": "stream",
     "text": [
      "Requirement already satisfied: miditok in /Users/night/miniconda3/lib/python3.9/site-packages (1.1.6)\n",
      "Requirement already satisfied: miditoolkit in /Users/night/miniconda3/lib/python3.9/site-packages (0.1.15)\n",
      "Requirement already satisfied: tqdm in /Users/night/miniconda3/lib/python3.9/site-packages (4.61.2)\n",
      "Requirement already satisfied: numpy>=1.21 in /Users/night/miniconda3/lib/python3.9/site-packages (from miditok) (1.21.4)\n",
      "Requirement already satisfied: mido>=1.1.16 in /Users/night/miniconda3/lib/python3.9/site-packages (from miditoolkit) (1.2.10)\n"
     ]
    }
   ],
   "source": [
    "!pip install miditok miditoolkit tqdm"
   ]
  },
  {
   "cell_type": "code",
   "execution_count": 3,
   "metadata": {},
   "outputs": [],
   "source": [
    "from Model import *\n",
    "from utils import batch\n",
    "import math\n",
    "import random\n",
    "from dataset import CP_Word_Dataset\n"
   ]
  },
  {
   "cell_type": "markdown",
   "metadata": {},
   "source": [
    "## 设置模型与训练参数"
   ]
  },
  {
   "cell_type": "code",
   "execution_count": 4,
   "metadata": {},
   "outputs": [],
   "source": [
    "train_seq_length = 1025\n",
    "database_name = 'pop17'\n",
    "eval_out_path = './pop17-dataset/pop17_eval_dataset.json'\n",
    "train_out_path = './pop17-dataset/pop17_train_dataset.json'\n",
    "test_out_path = './pop17-dataset/pop17_test_dataset.json'\n",
    "log_dir = './tf_logs/'\n",
    "checkpoint_dir = './hy-tmp/checkpoints/'\n",
    "\n",
    "# Train\n",
    "epoch = 1\n",
    "batch_size = 2\n",
    "warmup_steps = 4000\n",
    "save_n_step = 20\n",
    "setLogs_n_step = 20\n",
    "save_test_best_n_step = 500\n",
    "test_start_step = 200\n",
    "reset_states_n_step = 20\n",
    "\n",
    "# [Family Bar/position Pitch Velocity Duration Chord Rest Tempo]\n",
    "token_range = [2, 34, 89, 33, 65, 18, 10, 33]\n",
    "emb_sizes = [32, 128, 512, 128, 128, 128, 128, 128]\n",
    "vocab_sizes = [i+2 for i in token_range]\n",
    "eos_tokens = [i+1 for i in token_range]\n",
    "eos_tokens = vocab2token([eos_tokens])[0]\n",
    "random.seed(1)  # for data\n",
    "config = {\n",
    "    \"vocab_sizes\": vocab_sizes,\n",
    "    \"emb_sizes\": emb_sizes,\n",
    "    \"d_model\": 256,\n",
    "    \"dff\": 1024,\n",
    "    \"num_layers\": 6,\n",
    "    \"num_heads\": 4,\n",
    "    \"dropout_rate\": 0.1,\n",
    "    \"length\": 1024,\n",
    "    \"rpr\": True,\n",
    "    \"dataset\": f'{database_name}_{train_seq_length}',\n",
    "}\n"
   ]
  },
  {
   "cell_type": "markdown",
   "metadata": {},
   "source": [
    "## 初始化模型"
   ]
  },
  {
   "cell_type": "code",
   "execution_count": 5,
   "metadata": {},
   "outputs": [],
   "source": [
    "mt = model().getLinearTransformerXL(config, log_dir, checkpoint_dir)\n"
   ]
  },
  {
   "cell_type": "markdown",
   "metadata": {},
   "source": [
    "# 查看模型"
   ]
  },
  {
   "cell_type": "code",
   "execution_count": 6,
   "metadata": {},
   "outputs": [
    {
     "name": "stdout",
     "output_type": "stream",
     "text": [
      "Model: \"linear_transformer_xl\"\n",
      "_________________________________________________________________\n",
      " Layer (type)                Output Shape              Param #   \n",
      "=================================================================\n",
      " encoder_layer (EncoderLayer  multiple                 855296    \n",
      " )                                                               \n",
      "                                                                 \n",
      " encoder_layer_1 (EncoderLay  multiple                 855296    \n",
      " er)                                                             \n",
      "                                                                 \n",
      " encoder_layer_2 (EncoderLay  multiple                 855296    \n",
      " er)                                                             \n",
      "                                                                 \n",
      " encoder_layer_3 (EncoderLay  multiple                 855296    \n",
      " er)                                                             \n",
      "                                                                 \n",
      " encoder_layer_4 (EncoderLay  multiple                 855296    \n",
      " er)                                                             \n",
      "                                                                 \n",
      " encoder_layer_5 (EncoderLay  multiple                 855296    \n",
      " er)                                                             \n",
      "                                                                 \n",
      " embedding (Embedding)       multiple                  128       \n",
      "                                                                 \n",
      " embedding_1 (Embedding)     multiple                  4608      \n",
      "                                                                 \n",
      " embedding_2 (Embedding)     multiple                  46592     \n",
      "                                                                 \n",
      " embedding_3 (Embedding)     multiple                  4480      \n",
      "                                                                 \n",
      " embedding_4 (Embedding)     multiple                  8576      \n",
      "                                                                 \n",
      " embedding_5 (Embedding)     multiple                  2560      \n",
      "                                                                 \n",
      " embedding_6 (Embedding)     multiple                  1536      \n",
      "                                                                 \n",
      " embedding_7 (Embedding)     multiple                  4480      \n",
      "                                                                 \n",
      " dense_36 (Dense)            multiple                  336128    \n",
      "                                                                 \n",
      " dropout_12 (Dropout)        multiple                  0         \n",
      "                                                                 \n",
      " dense_37 (Dense)            multiple                  1028      \n",
      "                                                                 \n",
      " dense_38 (Dense)            multiple                  10404     \n",
      "                                                                 \n",
      " dense_39 (Dense)            multiple                  26299     \n",
      "                                                                 \n",
      " dense_40 (Dense)            multiple                  10115     \n",
      "                                                                 \n",
      " dense_41 (Dense)            multiple                  19363     \n",
      "                                                                 \n",
      " dense_42 (Dense)            multiple                  5780      \n",
      "                                                                 \n",
      " dense_43 (Dense)            multiple                  3468      \n",
      "                                                                 \n",
      " dense_44 (Dense)            multiple                  10115     \n",
      "                                                                 \n",
      "=================================================================\n",
      "Total params: 5,627,436\n",
      "Trainable params: 5,627,436\n",
      "Non-trainable params: 0\n",
      "_________________________________________________________________\n"
     ]
    }
   ],
   "source": [
    "inp = tf.constant([[[1, 1, 1, 1, 1, 1, 1, 1]]], tf.int64)\n",
    "r, w = mt(inp, True, inp)\n",
    "mt.summary()\n"
   ]
  },
  {
   "cell_type": "markdown",
   "metadata": {},
   "source": [
    "## 存放 run state"
   ]
  },
  {
   "cell_type": "code",
   "execution_count": 7,
   "metadata": {},
   "outputs": [],
   "source": [
    "train_cache_dir = f'{mt.log_dir}/train_process.json'\n",
    "train_process_json = Train_process_json(train_cache_dir)\n"
   ]
  },
  {
   "cell_type": "markdown",
   "metadata": {},
   "source": [
    "## 设置训练信息"
   ]
  },
  {
   "cell_type": "code",
   "execution_count": 8,
   "metadata": {},
   "outputs": [],
   "source": [
    "class CustomSchedule(tf.keras.optimizers.schedules.LearningRateSchedule):\n",
    "    def __init__(self, d_model, warmup_steps=warmup_steps):\n",
    "        super(CustomSchedule, self).__init__()\n",
    "\n",
    "        self.d_model = d_model\n",
    "        self.d_model = tf.cast(self.d_model, tf.float32)\n",
    "        self.warmup_steps = warmup_steps\n",
    "        self.step = 0\n",
    "        self.lr = 0\n",
    "\n",
    "    def __call__(self, step):\n",
    "        arg1 = tf.math.rsqrt(step)\n",
    "        arg2 = step * (self.warmup_steps ** -1.5)\n",
    "        lr = tf.math.rsqrt(self.d_model) * tf.math.minimum(arg1, arg2)\n",
    "\n",
    "        self.step = step\n",
    "        self.lr = lr\n",
    "        return lr\n",
    "\n",
    "\n",
    "learning_rate = CustomSchedule(config['d_model'])\n",
    "optimizer = tf.keras.optimizers.Adam(learning_rate, beta_1=0.9, beta_2=0.98,\n",
    "                                     epsilon=1e-9)\n",
    "\n",
    "\n",
    "def loss_function(real, pred):\n",
    "    loss_object = tf.keras.losses.SparseCategoricalCrossentropy(\n",
    "        from_logits=True, reduction='none')\n",
    "    mask = tf.math.logical_not(tf.math.equal(real, 0))\n",
    "    loss_ = loss_object(real, pred)\n",
    "    mask = tf.cast(mask, dtype=loss_.dtype)\n",
    "    loss_ *= mask\n",
    "    return tf.reduce_sum(loss_)/tf.reduce_sum(mask)\n",
    "\n",
    "\n",
    "def accuracy_function(real, pred):\n",
    "    accuracies = tf.equal(real, tf.argmax(pred, axis=2))\n",
    "\n",
    "    mask = tf.math.logical_not(tf.math.equal(real, 0))\n",
    "    accuracies = tf.math.logical_and(mask, accuracies)\n",
    "\n",
    "    accuracies = tf.cast(accuracies, dtype=tf.float32)\n",
    "    mask = tf.cast(mask, dtype=tf.float32)\n",
    "    return tf.reduce_sum(accuracies)/tf.reduce_sum(mask)\n"
   ]
  },
  {
   "cell_type": "code",
   "execution_count": 9,
   "metadata": {},
   "outputs": [],
   "source": [
    "mt.train_setup(loss_function, accuracy_function,\n",
    "               optimizer)\n"
   ]
  },
  {
   "cell_type": "markdown",
   "metadata": {},
   "source": [
    "## 读取训练状态\n"
   ]
  },
  {
   "cell_type": "code",
   "execution_count": 10,
   "metadata": {},
   "outputs": [],
   "source": [
    "best_acc = train_process_json.get()['best_acc']\n",
    "best_loss = train_process_json.get()['best_loss']\n",
    "current_step = train_process_json.get()['step']\n"
   ]
  },
  {
   "cell_type": "markdown",
   "metadata": {},
   "source": [
    "## 配置tf-logs"
   ]
  },
  {
   "cell_type": "code",
   "execution_count": 11,
   "metadata": {},
   "outputs": [],
   "source": [
    "stat_names = ['Family', 'Position', 'Pitch',\n",
    "              'Velocity', 'Duration', 'Chord', 'Rest', 'Tempo', 'Total']\n",
    "train_losses = [tf.keras.metrics.Mean(\n",
    "    name=f'{n}_loss') for n in stat_names]\n",
    "train_accuracy = [tf.keras.metrics.Mean(\n",
    "    name=f'{n}_accuracy') for n in stat_names]\n",
    "\n",
    "eval_losses = [tf.keras.metrics.Mean(\n",
    "    name=f'{n}_loss') for n in stat_names]\n",
    "eval_accuracy = [tf.keras.metrics.Mean(\n",
    "    name=f'{n}_accuracy') for n in stat_names]\n",
    "\n",
    "train_summary_writer = tf.summary.create_file_writer(f'{mt.log_dir}/train_dir')\n",
    "eval_summary_writer = tf.summary.create_file_writer(f'{mt.log_dir}/eval_dir')\n",
    "test_summary_writer = tf.summary.create_file_writer(f'{mt.log_dir}/test_dir')\n",
    "\n",
    "\n",
    "def setLogs():\n",
    "    step = current_step\n",
    "    with train_summary_writer.as_default():\n",
    "        for l in train_losses:\n",
    "            tf.summary.scalar(l.name, l.result(), step=step)\n",
    "        for a in train_accuracy:\n",
    "            tf.summary.scalar(a.name, a.result(), step=step)\n",
    "    with eval_summary_writer.as_default():\n",
    "        for l in eval_losses:\n",
    "            tf.summary.scalar(l.name, l.result(), step=step)\n",
    "        for a in eval_accuracy:\n",
    "            tf.summary.scalar(a.name, a.result(), step=step)\n",
    "\n",
    "\n",
    "def reset_states():\n",
    "    for t in train_losses:\n",
    "        t.reset_states()\n",
    "    for t in train_accuracy:\n",
    "        t.reset_states()\n",
    "    for t in eval_losses:\n",
    "        t.reset_states()\n",
    "    for t in eval_accuracy:\n",
    "        t.reset_states()\n"
   ]
  },
  {
   "cell_type": "markdown",
   "metadata": {},
   "source": [
    "## 定义 ckpt 保存函数"
   ]
  },
  {
   "cell_type": "code",
   "execution_count": 12,
   "metadata": {},
   "outputs": [],
   "source": [
    "def save_lastest_ckpt():\n",
    "    train_process_json.set(current_step, best_acc, best_loss)\n",
    "    mt.save_weights(\n",
    "        f'{mt.checkpoint_dir}/lastest-ckpt', overwrite=True, save_format=\"tf\")\n",
    "\n",
    "\n",
    "def save_test_best_ckpt(loss, acc):\n",
    "    global best_acc\n",
    "    global best_loss\n",
    "\n",
    "    if(acc > best_acc):\n",
    "        best_acc = acc\n",
    "        train_process_json.set(current_step, best_acc, best_loss)\n",
    "        mt.save_weights(\n",
    "            f'{mt.checkpoint_dir}/best_acc-ckpt{current_step}', overwrite=True, save_format=\"tf\")\n",
    "\n",
    "    if(loss < best_loss):\n",
    "        train_process_json.set(current_step, best_acc, best_loss)\n",
    "        best_loss = loss\n",
    "        mt.save_weights(\n",
    "            f'{mt.checkpoint_dir}/best_loss-ckpt{current_step}', overwrite=True, save_format=\"tf\")\n",
    "\n",
    "    mt.save_weights(f'{mt.checkpoint_dir}/ckpt{current_step}',\n",
    "                    overwrite=True, save_format=\"tf\")\n",
    "\n",
    "    with test_summary_writer.as_default():\n",
    "        tf.summary.scalar('test_loss', loss, step=current_step)\n",
    "        tf.summary.scalar('test_acc', acc, step=current_step)\n"
   ]
  },
  {
   "cell_type": "markdown",
   "metadata": {},
   "source": [
    "## 开始训练"
   ]
  },
  {
   "cell_type": "code",
   "execution_count": 13,
   "metadata": {},
   "outputs": [
    {
     "name": "stdout",
     "output_type": "stream",
     "text": [
      "eval_ds length 9107\n"
     ]
    },
    {
     "ename": "KeyboardInterrupt",
     "evalue": "",
     "output_type": "error",
     "traceback": [
      "\u001b[0;31m---------------------------------------------------------------------------\u001b[0m",
      "\u001b[0;31mKeyboardInterrupt\u001b[0m                         Traceback (most recent call last)",
      "\u001b[0;32m<ipython-input-13-7b4e464d4c67>\u001b[0m in \u001b[0;36m<module>\u001b[0;34m\u001b[0m\n\u001b[1;32m      4\u001b[0m     \u001b[0mprint\u001b[0m\u001b[0;34m(\u001b[0m\u001b[0;34m'eval_ds length'\u001b[0m\u001b[0;34m,\u001b[0m \u001b[0meval_ds\u001b[0m\u001b[0;34m.\u001b[0m\u001b[0mtotal_seq\u001b[0m\u001b[0;34m)\u001b[0m\u001b[0;34m\u001b[0m\u001b[0;34m\u001b[0m\u001b[0m\n\u001b[1;32m      5\u001b[0m \u001b[0;34m\u001b[0m\u001b[0m\n\u001b[0;32m----> 6\u001b[0;31m     \u001b[0mtrain_ds\u001b[0m \u001b[0;34m=\u001b[0m \u001b[0mCP_Word_Dataset\u001b[0m\u001b[0;34m(\u001b[0m\u001b[0mtrain_out_path\u001b[0m\u001b[0;34m,\u001b[0m \u001b[0mtrain_seq_length\u001b[0m\u001b[0;34m,\u001b[0m \u001b[0meos_tokens\u001b[0m\u001b[0;34m)\u001b[0m\u001b[0;34m\u001b[0m\u001b[0;34m\u001b[0m\u001b[0m\n\u001b[0m\u001b[1;32m      7\u001b[0m \u001b[0;34m\u001b[0m\u001b[0m\n\u001b[1;32m      8\u001b[0m     \u001b[0mprint\u001b[0m\u001b[0;34m(\u001b[0m\u001b[0;34m'train_ds length'\u001b[0m\u001b[0;34m,\u001b[0m \u001b[0mtrain_ds\u001b[0m\u001b[0;34m.\u001b[0m\u001b[0mtotal_seq\u001b[0m\u001b[0;34m)\u001b[0m\u001b[0;34m\u001b[0m\u001b[0;34m\u001b[0m\u001b[0m\n",
      "\u001b[0;32m~/code/netpi/github/compound-word-transformer-tensorflow/dataset.py\u001b[0m in \u001b[0;36m__init__\u001b[0;34m(self, dir, length, eos_tokens)\u001b[0m\n\u001b[1;32m     16\u001b[0m         \u001b[0mbar_idx_final\u001b[0m \u001b[0;34m=\u001b[0m\u001b[0;34m{\u001b[0m\u001b[0;34m}\u001b[0m\u001b[0;34m\u001b[0m\u001b[0;34m\u001b[0m\u001b[0m\n\u001b[1;32m     17\u001b[0m         \u001b[0;32mfor\u001b[0m \u001b[0mseq\u001b[0m \u001b[0;32min\u001b[0m \u001b[0mself\u001b[0m\u001b[0;34m.\u001b[0m\u001b[0mdata\u001b[0m\u001b[0;34m:\u001b[0m\u001b[0;34m\u001b[0m\u001b[0;34m\u001b[0m\u001b[0m\n\u001b[0;32m---> 18\u001b[0;31m             \u001b[0mseq\u001b[0m \u001b[0;34m=\u001b[0m \u001b[0mnp\u001b[0m\u001b[0;34m.\u001b[0m\u001b[0marray\u001b[0m\u001b[0;34m(\u001b[0m\u001b[0mseq\u001b[0m\u001b[0;34m)\u001b[0m\u001b[0;34m\u001b[0m\u001b[0;34m\u001b[0m\u001b[0m\n\u001b[0m\u001b[1;32m     19\u001b[0m             \u001b[0mseq_len\u001b[0m \u001b[0;34m=\u001b[0m \u001b[0mlen\u001b[0m\u001b[0;34m(\u001b[0m\u001b[0mseq\u001b[0m\u001b[0;34m)\u001b[0m\u001b[0;34m\u001b[0m\u001b[0;34m\u001b[0m\u001b[0m\n\u001b[1;32m     20\u001b[0m             \u001b[0mbar_idx\u001b[0m \u001b[0;34m=\u001b[0m \u001b[0mnp\u001b[0m\u001b[0;34m.\u001b[0m\u001b[0mwhere\u001b[0m\u001b[0;34m(\u001b[0m\u001b[0mseq\u001b[0m\u001b[0;34m[\u001b[0m\u001b[0;34m...\u001b[0m\u001b[0;34m,\u001b[0m\u001b[0;36m1\u001b[0m\u001b[0;34m]\u001b[0m \u001b[0;34m==\u001b[0m \u001b[0;36m1\u001b[0m\u001b[0;34m)\u001b[0m\u001b[0;34m[\u001b[0m\u001b[0;36m0\u001b[0m\u001b[0;34m]\u001b[0m \u001b[0;31m# bar token\u001b[0m\u001b[0;34m\u001b[0m\u001b[0;34m\u001b[0m\u001b[0m\n",
      "\u001b[0;31mKeyboardInterrupt\u001b[0m: "
     ]
    }
   ],
   "source": [
    "for e in range(epoch):\n",
    "\n",
    "    eval_ds = CP_Word_Dataset(eval_out_path, train_seq_length, eos_tokens)\n",
    "    print('eval_ds length', eval_ds.total_seq)\n",
    "\n",
    "    train_ds = CP_Word_Dataset(train_out_path, train_seq_length, eos_tokens)\n",
    "\n",
    "    print('train_ds length', train_ds.total_seq)\n",
    "\n",
    "    test_ds = CP_Word_Dataset(test_out_path, train_seq_length, eos_tokens)\n",
    "\n",
    "    print('test_ds length', test_ds.total_seq)\n",
    "\n",
    "    train_step_per_epoch = math.ceil(train_ds.total_seq / batch_size)\n",
    "    eval_step_per_epoch = math.ceil(eval_ds.total_seq / batch_size)\n",
    "\n",
    "    current_epoch = math.ceil(current_step / train_step_per_epoch)\n",
    "\n",
    "    train_data_range_idxs = random.sample(\n",
    "        range(train_ds.total_seq), train_ds.total_seq)\n",
    "\n",
    "    eval_data_range_idxs = random.sample(\n",
    "        range(eval_ds.total_seq), eval_ds.total_seq)\n",
    "\n",
    "    with tqdm(total=train_step_per_epoch) as bar:\n",
    "        idx = 0\n",
    "        train_seq_start_idx = current_step % train_step_per_epoch * batch_size\n",
    "\n",
    "        for batch_idxs in batch(train_data_range_idxs[train_seq_start_idx:], batch_size):\n",
    "\n",
    "            # train\n",
    "            seqs = train_ds.get_seqs(batch_idxs)  # (batch_size, length, 6)\n",
    "            losses, acc = mt.train_step(np.array(seqs))\n",
    "            current_step += 1\n",
    "            current_lr = learning_rate(tf.cast(current_step, tf.float32))\n",
    "\n",
    "            for i in range(len(losses)):\n",
    "                train_losses[i](losses[i].numpy())\n",
    "                train_accuracy[i](acc[i])\n",
    "            train_losses[-1](np.sum([l.numpy()\n",
    "                             for l in losses]) / len(losses))  # 均值\n",
    "            train_accuracy[-1](np.sum(acc) / len(losses))\n",
    "\n",
    "            # eval\n",
    "            e_start_idx = current_step % eval_step_per_epoch * batch_size\n",
    "            eval_batch_idxs = eval_data_range_idxs[e_start_idx: e_start_idx + batch_size]\n",
    "\n",
    "            eval_seqs = eval_ds.get_seqs(eval_batch_idxs)\n",
    "            e_losses, e_acc = mt.eval(eval_seqs)\n",
    "\n",
    "            for i in range(len(losses)):\n",
    "                eval_losses[i](e_losses[i].numpy())\n",
    "                eval_accuracy[i](e_acc[i])\n",
    "\n",
    "            eval_losses[-1](np.sum([l.numpy()\n",
    "                            for l in e_losses]) / len(e_losses))  # 均值\n",
    "            eval_accuracy[-1](np.sum(e_acc) / len(e_losses))\n",
    "\n",
    "            if idx % setLogs_n_step == 0:\n",
    "                setLogs()\n",
    "\n",
    "            if idx % save_n_step == 0:\n",
    "                save_lastest_ckpt()\n",
    "\n",
    "            # if idx % save_eval_best_n_step == 0:\n",
    "            #     save_eval_best_ckpt()\n",
    "\n",
    "            if current_step % save_test_best_n_step == 0 and current_step > test_start_step:\n",
    "                loss, acc = mt.test(test_ds, batch_size)\n",
    "                save_test_best_ckpt(loss, acc)\n",
    "\n",
    "            # [Family Bar/position Pitch Velocity Duration Tempo]\n",
    "            bar.set_description(\n",
    "                f'Epoch/step {current_epoch}/{current_step}: lr {float(current_lr):.6}  Loss/eval/best {float(train_losses[-1].result()):.6}/{float(eval_losses[-1].result()):.6}/{best_loss:.6}  Acc/eval/best {float(train_accuracy[-1].result()):.6}/{float(eval_accuracy[-1].result()):.6}/{best_acc:.6}'\n",
    "            )\n",
    "            if idx == 0:\n",
    "                bar.update(current_step % train_step_per_epoch)\n",
    "            bar.update(1)\n",
    "\n",
    "            if idx % reset_states_n_step == 0:\n",
    "                reset_states()\n",
    "            idx += 1\n"
   ]
  },
  {
   "cell_type": "markdown",
   "metadata": {},
   "source": [
    "## 生成 MIDI"
   ]
  },
  {
   "cell_type": "code",
   "execution_count": 14,
   "metadata": {},
   "outputs": [
    {
     "ename": "ImportError",
     "evalue": "cannot import name 'Tokenizer' from 'dataset' (/Users/night/code/netpi/github/compound-word-transformer-tensorflow/dataset.py)",
     "output_type": "error",
     "traceback": [
      "\u001b[0;31m---------------------------------------------------------------------------\u001b[0m",
      "\u001b[0;31mImportError\u001b[0m                               Traceback (most recent call last)",
      "\u001b[0;32m<ipython-input-14-9d2d0b5ede91>\u001b[0m in \u001b[0;36m<module>\u001b[0;34m\u001b[0m\n\u001b[0;32m----> 1\u001b[0;31m \u001b[0;32mfrom\u001b[0m \u001b[0mdataset\u001b[0m \u001b[0;32mimport\u001b[0m \u001b[0mTokenizer\u001b[0m\u001b[0;34m\u001b[0m\u001b[0;34m\u001b[0m\u001b[0m\n\u001b[0m\u001b[1;32m      2\u001b[0m \u001b[0;32mimport\u001b[0m \u001b[0mdatetime\u001b[0m\u001b[0;34m\u001b[0m\u001b[0;34m\u001b[0m\u001b[0m\n\u001b[1;32m      3\u001b[0m \u001b[0;34m\u001b[0m\u001b[0m\n\u001b[1;32m      4\u001b[0m \u001b[0mtokenizer\u001b[0m \u001b[0;34m=\u001b[0m \u001b[0mTokenizer\u001b[0m\u001b[0;34m(\u001b[0m\u001b[0;34m)\u001b[0m\u001b[0;34m\u001b[0m\u001b[0;34m\u001b[0m\u001b[0m\n\u001b[1;32m      5\u001b[0m \u001b[0mseed_length\u001b[0m \u001b[0;34m=\u001b[0m \u001b[0;36m10\u001b[0m\u001b[0;34m\u001b[0m\u001b[0;34m\u001b[0m\u001b[0m\n",
      "\u001b[0;31mImportError\u001b[0m: cannot import name 'Tokenizer' from 'dataset' (/Users/night/code/netpi/github/compound-word-transformer-tensorflow/dataset.py)"
     ]
    }
   ],
   "source": [
    "from dataset import get_tokenizer\n",
    "import datetime\n",
    "\n",
    "tokenizer = get_tokenizer()\n",
    "seed_length = 10\n",
    "length = 500\n",
    "temperature = [0.05, 0.01, 1, 1, 1.1, 0.01, 1, 0.01]\n",
    "nucleus_p = [False, 0.9, 0.9, 0.9, 0.95, 0.9, 0.9, 0.9]\n",
    "if_end = False  # Fasle 为屏蔽 EOS Token\n",
    "seqs = np.array(eval_ds.get_seqs([0]))\n",
    "inp = seqs[:batch_size, :seed_length]\n",
    "\n",
    "gen = mt.generate(np.array(inp), int(length), temperature, nucleus_p, if_end)\n",
    "tokens = [vocab2token(g) for g in gen]\n",
    "current_time = datetime.datetime.now().strftime('%Y%m%d-%H%M%S')\n",
    "\n",
    "idx = 0\n",
    "for midi_token in tokens:\n",
    "    converted_back_midi = tokenizer.tokens_to_midi(\n",
    "        np.array([midi_token]), [(0, False)])\n",
    "    converted_back_midi.dump(\n",
    "        f'./gen_midi/{idx}-{temperature}-{nucleus_p}-{length}.{current_time}.midi')\n",
    "    idx += 1\n"
   ]
  }
 ],
 "metadata": {
  "interpreter": {
   "hash": "aee8b7b246df8f9039afb4144a1f6fd8d2ca17a180786b69acc140d282b71a49"
  },
  "kernelspec": {
   "display_name": "Python 3.9.7 64-bit",
   "language": "python",
   "name": "python3"
  },
  "language_info": {
   "codemirror_mode": {
    "name": "ipython",
    "version": 3
   },
   "file_extension": ".py",
   "mimetype": "text/x-python",
   "name": "python",
   "nbconvert_exporter": "python",
   "pygments_lexer": "ipython3",
   "version": "3.9.9"
  },
  "orig_nbformat": 4
 },
 "nbformat": 4,
 "nbformat_minor": 2
}
